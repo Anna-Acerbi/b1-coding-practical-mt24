{
 "cells": [
  {
   "cell_type": "markdown",
   "id": "31786312",
   "metadata": {},
   "source": [
    "# Test PD Controller on Submarine Mission\n",
    "\n",
    "This notebook runs the PD controller with default gains (KP=0.15, KD=0.6) on a random mission and plots the result."
   ]
  },
  {
   "cell_type": "code",
   "execution_count": null,
   "id": "41420faa",
   "metadata": {},
   "outputs": [],
   "source": [
    "# Import required modules\n",
    "import numpy as np\n",
    "from uuv_mission.dynamic import Submarine, ClosedLoop, Mission\n",
    "from uuv_mission.control import PDController"
   ]
  },
  {
   "cell_type": "code",
   "execution_count": null,
   "id": "62629961",
   "metadata": {},
   "outputs": [],
   "source": [
    "# Create a random mission\n",
    "mission = Mission.random_mission(duration=100, scale=5.0)"
   ]
  },
  {
   "cell_type": "code",
   "execution_count": null,
   "id": "ee721f93",
   "metadata": {},
   "outputs": [],
   "source": [
    "# Instantiate submarine and PD controller with default gains\n",
    "sub = Submarine()\n",
    "controller = PDController(KP=0.15, KD=0.6)\n",
    "closed_loop = ClosedLoop(sub, controller)"
   ]
  },
  {
   "cell_type": "code",
   "execution_count": null,
   "id": "b45fac18",
   "metadata": {},
   "outputs": [],
   "source": [
    "# Simulate with random disturbances and plot the completed mission\n",
    "trajectory = closed_loop.simulate_with_random_disturbances(mission, variance=0.5)\n",
    "trajectory.plot_completed_mission(mission)"
   ]
  }
 ],
 "metadata": {
  "language_info": {
   "name": "python"
  }
 },
 "nbformat": 4,
 "nbformat_minor": 5
}
