{
 "cells": [
  {
   "cell_type": "markdown",
   "id": "31786312",
   "metadata": {},
   "source": [
    "# Test PD Controller on Submarine Mission\n",
    "\n",
    "This notebook:\n",
    "1. Sets up test parameters and mission\n",
    "2. Finds optimal controller parameters\n",
    "3. Simulates and visualizes the results"
   ]
  },
  {
   "cell_type": "code",
   "execution_count": null,
   "id": "41420faa",
   "metadata": {},
   "outputs": [],
   "source": [
    "# Import required modules\n",
    "import numpy as np\n",
    "from uuv_mission.dynamic import Submarine, ClosedLoop, Mission\n",
    "from uuv_mission.control import PDController\n",
    "from uuv_mission.parameter_tuning import find_optimal_parameters\n",
    "\n",
    "# Test parameters\n",
    "MISSION_DURATION = 100\n",
    "MISSION_SCALE = 5.0\n",
    "KP_RANGE = (0.1, 1.0, 20)  # min, max, steps\n",
    "KD_RANGE = (0.1, 1.0, 20)  # min, max, steps\n",
    "DISTURBANCE_VARIANCE = 0.5"
   ]
  },
  {
   "cell_type": "code",
   "execution_count": null,
   "id": "62629961",
   "metadata": {},
   "outputs": [],
   "source": [
    "# Create mission and find optimal parameters\n",
    "mission = Mission.random_mission(duration=MISSION_DURATION, scale=MISSION_SCALE)\n",
    "optimal_params = find_optimal_parameters(\n",
    "    mission,\n",
    "    kp_range=KP_RANGE,\n",
    "    kd_range=KD_RANGE,\n",
    "    variance=DISTURBANCE_VARIANCE\n",
    ")\n",
    "\n",
    "print(\"Optimization Results:\")\n",
    "print(f\"Optimal KP: {optimal_params['KP']:.3f}\")\n",
    "print(f\"Optimal KD: {optimal_params['KD']:.3f}\")\n",
    "print(f\"Best MSE: {optimal_params['mse']:.3f}\")"
   ]
  },
  {
   "cell_type": "code",
   "execution_count": null,
   "id": "981b1a6a",
   "metadata": {},
   "outputs": [],
   "source": [
    "# Run simulation with optimal parameters\n",
    "sub = Submarine()\n",
    "controller = PDController(KP=optimal_params['KP'], KD=optimal_params['KD'])\n",
    "closed_loop = ClosedLoop(sub, controller)\n",
    "trajectory = closed_loop.simulate_with_random_disturbances(\n",
    "    mission, \n",
    "    variance=DISTURBANCE_VARIANCE\n",
    ")\n",
    "\n",
    "# Plot results\n",
    "trajectory.plot_completed_mission(mission)"
   ]
  }
 ],
 "metadata": {
  "kernelspec": {
   "display_name": "base",
   "language": "python",
   "name": "python3"
  },
  "language_info": {
   "codemirror_mode": {
    "name": "ipython",
    "version": 3
   },
   "file_extension": ".py",
   "mimetype": "text/x-python",
   "name": "python",
   "nbconvert_exporter": "python",
   "pygments_lexer": "ipython3",
   "version": "3.12.4"
  }
 },
 "nbformat": 4,
 "nbformat_minor": 5
}
